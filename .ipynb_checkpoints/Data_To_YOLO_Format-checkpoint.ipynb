{
 "cells": [
  {
   "cell_type": "code",
   "execution_count": 2,
   "id": "184b1781",
   "metadata": {},
   "outputs": [],
   "source": [
    "import pandas as pd\n",
    "import os"
   ]
  },
  {
   "cell_type": "code",
   "execution_count": 4,
   "id": "6d94b559",
   "metadata": {},
   "outputs": [
    {
     "data": {
      "text/html": [
       "<div>\n",
       "<style scoped>\n",
       "    .dataframe tbody tr th:only-of-type {\n",
       "        vertical-align: middle;\n",
       "    }\n",
       "\n",
       "    .dataframe tbody tr th {\n",
       "        vertical-align: top;\n",
       "    }\n",
       "\n",
       "    .dataframe thead th {\n",
       "        text-align: right;\n",
       "    }\n",
       "</style>\n",
       "<table border=\"1\" class=\"dataframe\">\n",
       "  <thead>\n",
       "    <tr style=\"text-align: right;\">\n",
       "      <th></th>\n",
       "      <th>0</th>\n",
       "      <th>1</th>\n",
       "    </tr>\n",
       "  </thead>\n",
       "  <tbody>\n",
       "    <tr>\n",
       "      <th>0</th>\n",
       "      <td>/m/011k07</td>\n",
       "      <td>Tortoise</td>\n",
       "    </tr>\n",
       "    <tr>\n",
       "      <th>1</th>\n",
       "      <td>/m/011q46kg</td>\n",
       "      <td>Container</td>\n",
       "    </tr>\n",
       "    <tr>\n",
       "      <th>2</th>\n",
       "      <td>/m/012074</td>\n",
       "      <td>Magpie</td>\n",
       "    </tr>\n",
       "    <tr>\n",
       "      <th>3</th>\n",
       "      <td>/m/0120dh</td>\n",
       "      <td>Sea turtle</td>\n",
       "    </tr>\n",
       "    <tr>\n",
       "      <th>4</th>\n",
       "      <td>/m/01226z</td>\n",
       "      <td>Football</td>\n",
       "    </tr>\n",
       "  </tbody>\n",
       "</table>\n",
       "</div>"
      ],
      "text/plain": [
       "             0           1\n",
       "0    /m/011k07    Tortoise\n",
       "1  /m/011q46kg   Container\n",
       "2    /m/012074      Magpie\n",
       "3    /m/0120dh  Sea turtle\n",
       "4    /m/01226z    Football"
      ]
     },
     "execution_count": 4,
     "metadata": {},
     "output_type": "execute_result"
    }
   ],
   "source": [
    "os.chdir('D:\\IT\\Machine_Learning\\YOLO_Object_Detection\\Softwares\\OIDv4_ToolKit\\OID\\csv_folder')\n",
    "classes_data = pd.read_csv('class-descriptions-boxable.csv', header=None)\n",
    "classes_data.head()"
   ]
  },
  {
   "cell_type": "code",
   "execution_count": 6,
   "id": "96df3bac",
   "metadata": {},
   "outputs": [],
   "source": [
    "classes = ['Parrot', 'Owl']"
   ]
  },
  {
   "cell_type": "code",
   "execution_count": 7,
   "id": "f1eae73b",
   "metadata": {},
   "outputs": [
    {
     "name": "stdout",
     "output_type": "stream",
     "text": [
      "/m/0gv1x\n",
      "/m/09d5_\n",
      "['/m/0gv1x', '/m/09d5_']\n"
     ]
    }
   ],
   "source": [
    "class_strings = []\n",
    "for i in classes:\n",
    "    req_classes = classes_data.loc[classes_data[1] == i]\n",
    "    string = req_classes.iloc[0][0]\n",
    "    print(string)\n",
    "    class_strings.append(string)\n",
    "    \n",
    "print(class_strings)"
   ]
  },
  {
   "cell_type": "code",
   "execution_count": 9,
   "id": "eb791af6",
   "metadata": {},
   "outputs": [
    {
     "data": {
      "text/html": [
       "<div>\n",
       "<style scoped>\n",
       "    .dataframe tbody tr th:only-of-type {\n",
       "        vertical-align: middle;\n",
       "    }\n",
       "\n",
       "    .dataframe tbody tr th {\n",
       "        vertical-align: top;\n",
       "    }\n",
       "\n",
       "    .dataframe thead th {\n",
       "        text-align: right;\n",
       "    }\n",
       "</style>\n",
       "<table border=\"1\" class=\"dataframe\">\n",
       "  <thead>\n",
       "    <tr style=\"text-align: right;\">\n",
       "      <th></th>\n",
       "      <th>ImageID</th>\n",
       "      <th>LabelName</th>\n",
       "      <th>XMin</th>\n",
       "      <th>XMax</th>\n",
       "      <th>YMin</th>\n",
       "      <th>YMax</th>\n",
       "    </tr>\n",
       "  </thead>\n",
       "  <tbody>\n",
       "    <tr>\n",
       "      <th>0</th>\n",
       "      <td>000002b66c9c498e</td>\n",
       "      <td>/m/01g317</td>\n",
       "      <td>0.012500</td>\n",
       "      <td>0.195312</td>\n",
       "      <td>0.148438</td>\n",
       "      <td>0.587500</td>\n",
       "    </tr>\n",
       "    <tr>\n",
       "      <th>1</th>\n",
       "      <td>000002b66c9c498e</td>\n",
       "      <td>/m/01g317</td>\n",
       "      <td>0.025000</td>\n",
       "      <td>0.276563</td>\n",
       "      <td>0.714063</td>\n",
       "      <td>0.948438</td>\n",
       "    </tr>\n",
       "    <tr>\n",
       "      <th>2</th>\n",
       "      <td>000002b66c9c498e</td>\n",
       "      <td>/m/01g317</td>\n",
       "      <td>0.151562</td>\n",
       "      <td>0.310937</td>\n",
       "      <td>0.198437</td>\n",
       "      <td>0.590625</td>\n",
       "    </tr>\n",
       "    <tr>\n",
       "      <th>3</th>\n",
       "      <td>000002b66c9c498e</td>\n",
       "      <td>/m/01g317</td>\n",
       "      <td>0.256250</td>\n",
       "      <td>0.429688</td>\n",
       "      <td>0.651563</td>\n",
       "      <td>0.925000</td>\n",
       "    </tr>\n",
       "    <tr>\n",
       "      <th>4</th>\n",
       "      <td>000002b66c9c498e</td>\n",
       "      <td>/m/01g317</td>\n",
       "      <td>0.257812</td>\n",
       "      <td>0.346875</td>\n",
       "      <td>0.235938</td>\n",
       "      <td>0.385938</td>\n",
       "    </tr>\n",
       "  </tbody>\n",
       "</table>\n",
       "</div>"
      ],
      "text/plain": [
       "            ImageID  LabelName      XMin      XMax      YMin      YMax\n",
       "0  000002b66c9c498e  /m/01g317  0.012500  0.195312  0.148438  0.587500\n",
       "1  000002b66c9c498e  /m/01g317  0.025000  0.276563  0.714063  0.948438\n",
       "2  000002b66c9c498e  /m/01g317  0.151562  0.310937  0.198437  0.590625\n",
       "3  000002b66c9c498e  /m/01g317  0.256250  0.429688  0.651563  0.925000\n",
       "4  000002b66c9c498e  /m/01g317  0.257812  0.346875  0.235938  0.385938"
      ]
     },
     "execution_count": 9,
     "metadata": {},
     "output_type": "execute_result"
    }
   ],
   "source": [
    "annotation_data = pd.read_csv('train-annotations-bbox.csv', \n",
    "                             usecols=['ImageID',\n",
    "                                     'LabelName',\n",
    "                                     'XMin',\n",
    "                                     'XMax',\n",
    "                                     'YMin',\n",
    "                                     'YMax'])\n",
    "annotation_data.head()"
   ]
  },
  {
   "cell_type": "code",
   "execution_count": 10,
   "id": "5b76a52d",
   "metadata": {},
   "outputs": [
    {
     "data": {
      "text/html": [
       "<div>\n",
       "<style scoped>\n",
       "    .dataframe tbody tr th:only-of-type {\n",
       "        vertical-align: middle;\n",
       "    }\n",
       "\n",
       "    .dataframe tbody tr th {\n",
       "        vertical-align: top;\n",
       "    }\n",
       "\n",
       "    .dataframe thead th {\n",
       "        text-align: right;\n",
       "    }\n",
       "</style>\n",
       "<table border=\"1\" class=\"dataframe\">\n",
       "  <thead>\n",
       "    <tr style=\"text-align: right;\">\n",
       "      <th></th>\n",
       "      <th>ImageID</th>\n",
       "      <th>LabelName</th>\n",
       "      <th>XMin</th>\n",
       "      <th>XMax</th>\n",
       "      <th>YMin</th>\n",
       "      <th>YMax</th>\n",
       "    </tr>\n",
       "  </thead>\n",
       "  <tbody>\n",
       "    <tr>\n",
       "      <th>852</th>\n",
       "      <td>0000862a233105cc</td>\n",
       "      <td>/m/0gv1x</td>\n",
       "      <td>0.219375</td>\n",
       "      <td>0.479375</td>\n",
       "      <td>0.363039</td>\n",
       "      <td>0.714822</td>\n",
       "    </tr>\n",
       "    <tr>\n",
       "      <th>2821</th>\n",
       "      <td>0001b21c9b919d48</td>\n",
       "      <td>/m/0gv1x</td>\n",
       "      <td>0.159375</td>\n",
       "      <td>0.856250</td>\n",
       "      <td>0.000000</td>\n",
       "      <td>0.999236</td>\n",
       "    </tr>\n",
       "    <tr>\n",
       "      <th>8701</th>\n",
       "      <td>0005fd0beaedf55c</td>\n",
       "      <td>/m/0gv1x</td>\n",
       "      <td>0.195000</td>\n",
       "      <td>0.610000</td>\n",
       "      <td>0.208255</td>\n",
       "      <td>0.699812</td>\n",
       "    </tr>\n",
       "    <tr>\n",
       "      <th>28620</th>\n",
       "      <td>0019f2bc4a78d34c</td>\n",
       "      <td>/m/09d5_</td>\n",
       "      <td>0.343125</td>\n",
       "      <td>0.637500</td>\n",
       "      <td>0.069549</td>\n",
       "      <td>0.963346</td>\n",
       "    </tr>\n",
       "    <tr>\n",
       "      <th>29200</th>\n",
       "      <td>001a783046ffd7ff</td>\n",
       "      <td>/m/0gv1x</td>\n",
       "      <td>0.241250</td>\n",
       "      <td>0.658125</td>\n",
       "      <td>0.550125</td>\n",
       "      <td>0.809524</td>\n",
       "    </tr>\n",
       "  </tbody>\n",
       "</table>\n",
       "</div>"
      ],
      "text/plain": [
       "                ImageID LabelName      XMin      XMax      YMin      YMax\n",
       "852    0000862a233105cc  /m/0gv1x  0.219375  0.479375  0.363039  0.714822\n",
       "2821   0001b21c9b919d48  /m/0gv1x  0.159375  0.856250  0.000000  0.999236\n",
       "8701   0005fd0beaedf55c  /m/0gv1x  0.195000  0.610000  0.208255  0.699812\n",
       "28620  0019f2bc4a78d34c  /m/09d5_  0.343125  0.637500  0.069549  0.963346\n",
       "29200  001a783046ffd7ff  /m/0gv1x  0.241250  0.658125  0.550125  0.809524"
      ]
     },
     "execution_count": 10,
     "metadata": {},
     "output_type": "execute_result"
    }
   ],
   "source": [
    "filtered_class_data = annotation_data.loc[annotation_data['LabelName'].isin(class_strings)].copy()\n",
    "filtered_class_data.head()"
   ]
  },
  {
   "cell_type": "code",
   "execution_count": 11,
   "id": "fe568d68",
   "metadata": {},
   "outputs": [],
   "source": [
    "filtered_class_data['classNumber'] = ''\n",
    "filtered_class_data['center x'] = ''\n",
    "filtered_class_data['center y'] = ''\n",
    "filtered_class_data['width'] = ''\n",
    "filtered_class_data['height'] = ''"
   ]
  },
  {
   "cell_type": "code",
   "execution_count": 14,
   "id": "cfd5fcf6",
   "metadata": {},
   "outputs": [
    {
     "data": {
      "text/html": [
       "<div>\n",
       "<style scoped>\n",
       "    .dataframe tbody tr th:only-of-type {\n",
       "        vertical-align: middle;\n",
       "    }\n",
       "\n",
       "    .dataframe tbody tr th {\n",
       "        vertical-align: top;\n",
       "    }\n",
       "\n",
       "    .dataframe thead th {\n",
       "        text-align: right;\n",
       "    }\n",
       "</style>\n",
       "<table border=\"1\" class=\"dataframe\">\n",
       "  <thead>\n",
       "    <tr style=\"text-align: right;\">\n",
       "      <th></th>\n",
       "      <th>ImageID</th>\n",
       "      <th>classNumber</th>\n",
       "      <th>center x</th>\n",
       "      <th>center y</th>\n",
       "      <th>width</th>\n",
       "      <th>height</th>\n",
       "    </tr>\n",
       "  </thead>\n",
       "  <tbody>\n",
       "    <tr>\n",
       "      <th>852</th>\n",
       "      <td>0000862a233105cc</td>\n",
       "      <td>0</td>\n",
       "      <td>0.349375</td>\n",
       "      <td>0.538930</td>\n",
       "      <td>0.260000</td>\n",
       "      <td>0.351783</td>\n",
       "    </tr>\n",
       "    <tr>\n",
       "      <th>2821</th>\n",
       "      <td>0001b21c9b919d48</td>\n",
       "      <td>0</td>\n",
       "      <td>0.507812</td>\n",
       "      <td>0.499618</td>\n",
       "      <td>0.696875</td>\n",
       "      <td>0.999236</td>\n",
       "    </tr>\n",
       "    <tr>\n",
       "      <th>8701</th>\n",
       "      <td>0005fd0beaedf55c</td>\n",
       "      <td>0</td>\n",
       "      <td>0.402500</td>\n",
       "      <td>0.454033</td>\n",
       "      <td>0.415000</td>\n",
       "      <td>0.491557</td>\n",
       "    </tr>\n",
       "    <tr>\n",
       "      <th>28620</th>\n",
       "      <td>0019f2bc4a78d34c</td>\n",
       "      <td>1</td>\n",
       "      <td>0.490312</td>\n",
       "      <td>0.516448</td>\n",
       "      <td>0.294375</td>\n",
       "      <td>0.893797</td>\n",
       "    </tr>\n",
       "    <tr>\n",
       "      <th>29200</th>\n",
       "      <td>001a783046ffd7ff</td>\n",
       "      <td>0</td>\n",
       "      <td>0.449687</td>\n",
       "      <td>0.679825</td>\n",
       "      <td>0.416875</td>\n",
       "      <td>0.259399</td>\n",
       "    </tr>\n",
       "  </tbody>\n",
       "</table>\n",
       "</div>"
      ],
      "text/plain": [
       "                ImageID classNumber  center x  center y     width    height\n",
       "852    0000862a233105cc           0  0.349375  0.538930  0.260000  0.351783\n",
       "2821   0001b21c9b919d48           0  0.507812  0.499618  0.696875  0.999236\n",
       "8701   0005fd0beaedf55c           0  0.402500  0.454033  0.415000  0.491557\n",
       "28620  0019f2bc4a78d34c           1  0.490312  0.516448  0.294375  0.893797\n",
       "29200  001a783046ffd7ff           0  0.449687  0.679825  0.416875  0.259399"
      ]
     },
     "execution_count": 14,
     "metadata": {},
     "output_type": "execute_result"
    }
   ],
   "source": [
    "for i in range(len(class_strings)):\n",
    "    filtered_class_data.loc[filtered_class_data['LabelName'] == class_strings[i], 'classNumber'] = i\n",
    "    \n",
    "\n",
    "filtered_class_data['center x'] = (filtered_class_data['XMax'] + filtered_class_data['XMin']) / 2\n",
    "filtered_class_data['center y'] = (filtered_class_data['YMax'] + filtered_class_data['YMin']) / 2\n",
    "\n",
    "\n",
    "filtered_class_data['width'] = filtered_class_data['XMax'] - filtered_class_data['XMin']\n",
    "filtered_class_data['height'] = filtered_class_data['YMax'] - filtered_class_data['YMin']\n",
    "\n",
    "YOLO_values = filtered_class_data.loc[:, ['ImageID', 'classNumber', 'center x', 'center y', 'width', 'height']].copy()\n",
    "YOLO_values.head()\n"
   ]
  },
  {
   "cell_type": "code",
   "execution_count": 33,
   "id": "6a9bda5a",
   "metadata": {},
   "outputs": [],
   "source": [
    "image_path = 'D:\\IT\\Machine_Learning\\YOLO_Object_Detection\\Softwares\\OIDv4_ToolKit\\OID\\Dataset\\\\train\\Parrot_Owl'\n",
    "os.chdir(image_path)\n",
    "\n",
    "for current_dir, dirs, files in os.walk('.'):\n",
    "    for f in files:\n",
    "        if f.endswith('.jpg'):\n",
    "            image_title = f[:-4]\n",
    "            YOLO_file = YOLO_values.loc[YOLO_values['ImageID'] == image_title]\n",
    "            \n",
    "            df = YOLO_file.loc[:, ['classNumber', 'center x', 'center y', 'width', 'height']].copy()\n",
    "            \n",
    "            save_path = image_path + '/' + image_title + '.txt'\n",
    "\n",
    "            df.to_csv(save_path, header=False, index=False, sep=' ')"
   ]
  },
  {
   "cell_type": "markdown",
   "id": "956b3572",
   "metadata": {},
   "source": [
    "# Seperate Traning and test data"
   ]
  },
  {
   "cell_type": "code",
   "execution_count": 1,
   "id": "d3ec8189",
   "metadata": {},
   "outputs": [
    {
     "name": "stdout",
     "output_type": "stream",
     "text": [
      "Requirement already satisfied: tqdm in c:\\users\\mohit\\anaconda3\\lib\\site-packages (4.65.0)\n",
      "Requirement already satisfied: colorama in c:\\users\\mohit\\anaconda3\\lib\\site-packages (from tqdm) (0.4.4)\n"
     ]
    }
   ],
   "source": [
    "import os\n",
    "import shutil\n",
    "import random\n",
    "\n",
    "# !pip install tqdm --upgrade\n",
    "from tqdm.notebook import tqdm"
   ]
  },
  {
   "cell_type": "code",
   "execution_count": 2,
   "id": "0d58cbd6",
   "metadata": {},
   "outputs": [],
   "source": [
    "train_path_img = \"./yolo_data/images/train/\"\n",
    "train_path_label = \"./yolo_data/labels/train/\"\n",
    "val_path_img = \"./yolo_data/images/val/\"\n",
    "val_path_label = \"./yolo_data/labels/val/\"\n",
    "test_path = \"./yolo_data/test\""
   ]
  },
  {
   "cell_type": "code",
   "execution_count": 3,
   "id": "149fb891",
   "metadata": {},
   "outputs": [
    {
     "name": "stdout",
     "output_type": "stream",
     "text": [
      "------ PROCESS STARTED -------\n",
      "--- This folder has a total number of 3201 images---\n"
     ]
    },
    {
     "data": {
      "application/vnd.jupyter.widget-view+json": {
       "model_id": "767ab00c66d242e0817fec747a2eb792",
       "version_major": 2,
       "version_minor": 0
      },
      "text/plain": [
       "  0%|          | 0/2561 [00:00<?, ?it/s]"
      ]
     },
     "metadata": {},
     "output_type": "display_data"
    },
    {
     "ename": "FileNotFoundError",
     "evalue": "[Errno 2] No such file or directory: './data/122cb6dfa69b7a94.txt'",
     "output_type": "error",
     "traceback": [
      "\u001b[1;31m---------------------------------------------------------------------------\u001b[0m",
      "\u001b[1;31mFileNotFoundError\u001b[0m                         Traceback (most recent call last)",
      "\u001b[1;32m~\\AppData\\Local\\Temp\\ipykernel_1216\\3922693666.py\u001b[0m in \u001b[0;36m<module>\u001b[1;34m\u001b[0m\n\u001b[0;32m     64\u001b[0m \u001b[1;33m\u001b[0m\u001b[0m\n\u001b[0;32m     65\u001b[0m \u001b[1;31m### for label_tag\u001b[0m\u001b[1;33m\u001b[0m\u001b[1;33m\u001b[0m\u001b[0m\n\u001b[1;32m---> 66\u001b[1;33m \u001b[0mtrain_test_split\u001b[0m\u001b[1;33m(\u001b[0m\u001b[1;34m'./data/'\u001b[0m\u001b[1;33m)\u001b[0m \u001b[1;31m### without negative images\u001b[0m\u001b[1;33m\u001b[0m\u001b[1;33m\u001b[0m\u001b[0m\n\u001b[0m\u001b[0;32m     67\u001b[0m \u001b[1;31m# train_test_split('./data/','./negative_images/') ### if you want to feed negative images\u001b[0m\u001b[1;33m\u001b[0m\u001b[1;33m\u001b[0m\u001b[0m\n",
      "\u001b[1;32m~\\AppData\\Local\\Temp\\ipykernel_1216\\3922693666.py\u001b[0m in \u001b[0;36mtrain_test_split\u001b[1;34m(path, neg_path, split)\u001b[0m\n\u001b[0;32m     31\u001b[0m           \u001b[1;32mcontinue\u001b[0m\u001b[1;33m\u001b[0m\u001b[1;33m\u001b[0m\u001b[0m\n\u001b[0;32m     32\u001b[0m       \u001b[0mshutil\u001b[0m\u001b[1;33m.\u001b[0m\u001b[0mcopy2\u001b[0m\u001b[1;33m(\u001b[0m\u001b[0mpath\u001b[0m \u001b[1;33m+\u001b[0m \u001b[0mfilex\u001b[0m \u001b[1;33m+\u001b[0m \u001b[1;34m'.jpg'\u001b[0m\u001b[1;33m,\u001b[0m\u001b[1;34mf\"{train_path_img}/\"\u001b[0m \u001b[1;33m+\u001b[0m \u001b[0mfilex\u001b[0m \u001b[1;33m+\u001b[0m \u001b[1;34m'.jpg'\u001b[0m \u001b[1;33m)\u001b[0m\u001b[1;33m\u001b[0m\u001b[1;33m\u001b[0m\u001b[0m\n\u001b[1;32m---> 33\u001b[1;33m       \u001b[0mshutil\u001b[0m\u001b[1;33m.\u001b[0m\u001b[0mcopy2\u001b[0m\u001b[1;33m(\u001b[0m\u001b[0mpath\u001b[0m \u001b[1;33m+\u001b[0m \u001b[0mfilex\u001b[0m \u001b[1;33m+\u001b[0m \u001b[1;34m'.txt'\u001b[0m\u001b[1;33m,\u001b[0m \u001b[1;34mf\"{train_path_label}/\"\u001b[0m \u001b[1;33m+\u001b[0m \u001b[0mfilex\u001b[0m \u001b[1;33m+\u001b[0m \u001b[1;34m'.txt'\u001b[0m\u001b[1;33m)\u001b[0m\u001b[1;33m\u001b[0m\u001b[1;33m\u001b[0m\u001b[0m\n\u001b[0m\u001b[0;32m     34\u001b[0m \u001b[1;33m\u001b[0m\u001b[0m\n\u001b[0;32m     35\u001b[0m \u001b[1;33m\u001b[0m\u001b[0m\n",
      "\u001b[1;32m~\\anaconda3\\lib\\shutil.py\u001b[0m in \u001b[0;36mcopy2\u001b[1;34m(src, dst, follow_symlinks)\u001b[0m\n\u001b[0;32m    442\u001b[0m     \u001b[1;32mif\u001b[0m \u001b[0mos\u001b[0m\u001b[1;33m.\u001b[0m\u001b[0mpath\u001b[0m\u001b[1;33m.\u001b[0m\u001b[0misdir\u001b[0m\u001b[1;33m(\u001b[0m\u001b[0mdst\u001b[0m\u001b[1;33m)\u001b[0m\u001b[1;33m:\u001b[0m\u001b[1;33m\u001b[0m\u001b[1;33m\u001b[0m\u001b[0m\n\u001b[0;32m    443\u001b[0m         \u001b[0mdst\u001b[0m \u001b[1;33m=\u001b[0m \u001b[0mos\u001b[0m\u001b[1;33m.\u001b[0m\u001b[0mpath\u001b[0m\u001b[1;33m.\u001b[0m\u001b[0mjoin\u001b[0m\u001b[1;33m(\u001b[0m\u001b[0mdst\u001b[0m\u001b[1;33m,\u001b[0m \u001b[0mos\u001b[0m\u001b[1;33m.\u001b[0m\u001b[0mpath\u001b[0m\u001b[1;33m.\u001b[0m\u001b[0mbasename\u001b[0m\u001b[1;33m(\u001b[0m\u001b[0msrc\u001b[0m\u001b[1;33m)\u001b[0m\u001b[1;33m)\u001b[0m\u001b[1;33m\u001b[0m\u001b[1;33m\u001b[0m\u001b[0m\n\u001b[1;32m--> 444\u001b[1;33m     \u001b[0mcopyfile\u001b[0m\u001b[1;33m(\u001b[0m\u001b[0msrc\u001b[0m\u001b[1;33m,\u001b[0m \u001b[0mdst\u001b[0m\u001b[1;33m,\u001b[0m \u001b[0mfollow_symlinks\u001b[0m\u001b[1;33m=\u001b[0m\u001b[0mfollow_symlinks\u001b[0m\u001b[1;33m)\u001b[0m\u001b[1;33m\u001b[0m\u001b[1;33m\u001b[0m\u001b[0m\n\u001b[0m\u001b[0;32m    445\u001b[0m     \u001b[0mcopystat\u001b[0m\u001b[1;33m(\u001b[0m\u001b[0msrc\u001b[0m\u001b[1;33m,\u001b[0m \u001b[0mdst\u001b[0m\u001b[1;33m,\u001b[0m \u001b[0mfollow_symlinks\u001b[0m\u001b[1;33m=\u001b[0m\u001b[0mfollow_symlinks\u001b[0m\u001b[1;33m)\u001b[0m\u001b[1;33m\u001b[0m\u001b[1;33m\u001b[0m\u001b[0m\n\u001b[0;32m    446\u001b[0m     \u001b[1;32mreturn\u001b[0m \u001b[0mdst\u001b[0m\u001b[1;33m\u001b[0m\u001b[1;33m\u001b[0m\u001b[0m\n",
      "\u001b[1;32m~\\anaconda3\\lib\\shutil.py\u001b[0m in \u001b[0;36mcopyfile\u001b[1;34m(src, dst, follow_symlinks)\u001b[0m\n\u001b[0;32m    262\u001b[0m         \u001b[0mos\u001b[0m\u001b[1;33m.\u001b[0m\u001b[0msymlink\u001b[0m\u001b[1;33m(\u001b[0m\u001b[0mos\u001b[0m\u001b[1;33m.\u001b[0m\u001b[0mreadlink\u001b[0m\u001b[1;33m(\u001b[0m\u001b[0msrc\u001b[0m\u001b[1;33m)\u001b[0m\u001b[1;33m,\u001b[0m \u001b[0mdst\u001b[0m\u001b[1;33m)\u001b[0m\u001b[1;33m\u001b[0m\u001b[1;33m\u001b[0m\u001b[0m\n\u001b[0;32m    263\u001b[0m     \u001b[1;32melse\u001b[0m\u001b[1;33m:\u001b[0m\u001b[1;33m\u001b[0m\u001b[1;33m\u001b[0m\u001b[0m\n\u001b[1;32m--> 264\u001b[1;33m         \u001b[1;32mwith\u001b[0m \u001b[0mopen\u001b[0m\u001b[1;33m(\u001b[0m\u001b[0msrc\u001b[0m\u001b[1;33m,\u001b[0m \u001b[1;34m'rb'\u001b[0m\u001b[1;33m)\u001b[0m \u001b[1;32mas\u001b[0m \u001b[0mfsrc\u001b[0m\u001b[1;33m:\u001b[0m\u001b[1;33m\u001b[0m\u001b[1;33m\u001b[0m\u001b[0m\n\u001b[0m\u001b[0;32m    265\u001b[0m             \u001b[1;32mtry\u001b[0m\u001b[1;33m:\u001b[0m\u001b[1;33m\u001b[0m\u001b[1;33m\u001b[0m\u001b[0m\n\u001b[0;32m    266\u001b[0m                 \u001b[1;32mwith\u001b[0m \u001b[0mopen\u001b[0m\u001b[1;33m(\u001b[0m\u001b[0mdst\u001b[0m\u001b[1;33m,\u001b[0m \u001b[1;34m'wb'\u001b[0m\u001b[1;33m)\u001b[0m \u001b[1;32mas\u001b[0m \u001b[0mfdst\u001b[0m\u001b[1;33m:\u001b[0m\u001b[1;33m\u001b[0m\u001b[1;33m\u001b[0m\u001b[0m\n",
      "\u001b[1;31mFileNotFoundError\u001b[0m: [Errno 2] No such file or directory: './data/122cb6dfa69b7a94.txt'"
     ]
    }
   ],
   "source": [
    "\n",
    "'''\n",
    "Split the dataset into train and test and creates the train.txt and test.tx with\n",
    "the respective path of the images in each folder\n",
    "'''\n",
    "\n",
    "def train_test_split(path,neg_path=None, split = 0.2):\n",
    "    print(\"------ PROCESS STARTED -------\")\n",
    "\n",
    "\n",
    "    files = list(set([name[:-4] for name in os.listdir(path)])) ## removing duplicate names i.e. counting only number of images\n",
    "    \n",
    "\n",
    "    print (f\"--- This folder has a total number of {len(files)} images---\")\n",
    "    random.seed(42)\n",
    "    random.shuffle(files)\n",
    "\n",
    "    test_size = int(len(files) * split)\n",
    "    train_size = len(files) - test_size\n",
    "\n",
    "    ## creating required directories\n",
    "\n",
    "    os.makedirs(train_path_img, exist_ok = True)\n",
    "    os.makedirs(train_path_label, exist_ok = True)\n",
    "    os.makedirs(val_path_img, exist_ok = True)\n",
    "    os.makedirs(val_path_label, exist_ok = True)\n",
    "\n",
    "    \n",
    "    ### ----------- copying images to train folder\n",
    "    for filex in tqdm(files[:train_size]):\n",
    "      if filex == 'classes':\n",
    "          continue\n",
    "      shutil.copy2(path + filex + '.jpg',f\"{train_path_img}/\" + filex + '.jpg' )\n",
    "      shutil.copy2(path + filex + '.txt', f\"{train_path_label}/\" + filex + '.txt')\n",
    "        \n",
    "    \n",
    "\n",
    "    print(f\"------ Training data created with 80% split {len(files[:train_size])} images -------\")\n",
    "    \n",
    "    if neg_path:\n",
    "        neg_images = list(set([name[:-4] for name in os.listdir(neg_path)])) ## removing duplicate names i.e. counting only number of images\n",
    "        for filex in tqdm(neg_images):\n",
    "            shutil.copy2(neg_path+filex+ \".jpg\", f\"{train_path_img}/\" + filex + '.jpg')\n",
    "            \n",
    "        print(f\"------ Total  {len(neg_images)} negative images added to the training data -------\")\n",
    "    \n",
    "        print(f\"------ TOTAL Training data created with {len(files[:train_size]) + len(neg_images)} images -------\")\n",
    "    \n",
    "\n",
    "\n",
    "    ### copytin images to validation folder\n",
    "    for filex in tqdm(files[train_size:]):\n",
    "      if filex == 'classes':\n",
    "          continue\n",
    "      # print(\"running\")\n",
    "      shutil.copy2(path + filex + '.jpg', f\"{val_path_img}/\" + filex + '.jpg' )\n",
    "      shutil.copy2(path + filex + '.txt', f\"{val_path_label}/\" + filex + '.txt')\n",
    "\n",
    "    print(f\"------ Testing data created with a total of {len(files[train_size:])} images ----------\")\n",
    "    \n",
    "    print(\"------ TASK COMPLETED -------\")\n",
    "\n",
    "## spliting the data into train-test and creating train.txt and test.txt files\n",
    "# train_test_split('/content/drive/MyDrive/custom_notebooks/yolo_data/')\n",
    "\n",
    "### for label_tag\n",
    "train_test_split('./data/') ### without negative images\n",
    "# train_test_split('./data/','./negative_images/') ### if you want to feed negative images\n"
   ]
  },
  {
   "cell_type": "code",
   "execution_count": null,
   "id": "2ba72d06",
   "metadata": {},
   "outputs": [],
   "source": []
  }
 ],
 "metadata": {
  "kernelspec": {
   "display_name": "Python 3 (ipykernel)",
   "language": "python",
   "name": "python3"
  },
  "language_info": {
   "codemirror_mode": {
    "name": "ipython",
    "version": 3
   },
   "file_extension": ".py",
   "mimetype": "text/x-python",
   "name": "python",
   "nbconvert_exporter": "python",
   "pygments_lexer": "ipython3",
   "version": "3.9.13"
  }
 },
 "nbformat": 4,
 "nbformat_minor": 5
}
